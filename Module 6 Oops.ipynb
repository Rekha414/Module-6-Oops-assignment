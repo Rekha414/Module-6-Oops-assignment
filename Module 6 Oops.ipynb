{
  "nbformat": 4,
  "nbformat_minor": 0,
  "metadata": {
    "colab": {
      "provenance": []
    },
    "kernelspec": {
      "name": "python3",
      "display_name": "Python 3"
    },
    "language_info": {
      "name": "python"
    }
  },
  "cells": [
    {
      "cell_type": "markdown",
      "source": [
        "1. What are the five key concepts of Object-Oriented Programming (OOP)?"
      ],
      "metadata": {
        "id": "8jRQQMnAcqb8"
      }
    },
    {
      "cell_type": "markdown",
      "source": [
        "The five key concepts of Object-Oriented Programming (OOP) are:\n",
        "\n",
        "\n",
        "Encapsulation:\n",
        "\n",
        "\n",
        "This is the concept of bundling the data (variables) and the methods (functions) that operate on the data into a single unit, called a class. Encapsulation also involves restricting access to some of the object's components, which is known as data hiding. This helps to prevent unauthorized access and modification of the internal state of an object.\n",
        "Abstraction:\n",
        "\n",
        "\n",
        "Abstraction involves hiding the complex implementation details of an object and exposing only the essential features to the user. It allows the user to interact with an object through a simplified interface without needing to understand the internal workings of the object. Abstraction helps in reducing complexity.\n",
        "Inheritance:\n",
        "\n",
        "\n",
        "Inheritance is a mechanism that allows a new class (subclass or derived class) to acquire the properties and behaviors (methods) of an existing class (parent class or base class). This promotes code reusability and establishes a relationship between classes. A subclass can also override or extend the functionality of its parent class.\n",
        "Polymorphism:\n",
        "\n",
        "Polymorphism allows objects of different classes to be treated as objects of a common superclass. It also allows methods to have different behaviors based on the object that is calling them. This can be achieved through method overriding (runtime polymorphism) and method overloading (compile-time polymorphism). It simplifies code and allows for flexibility in interacting with different types of objects.\n",
        "Composition (or sometimes called \"Aggregation\"):\n",
        "\n",
        "\n",
        "Composition refers to building complex objects by combining simpler objects, establishing a \"has-a\" relationship between them. Instead of relying on inheritance, composition enables an object to contain other objects as components, promoting flexibility and reusability. Unlike inheritance, composition offers greater modularity and allows for easier changes in object behavior.\n",
        "\n",
        "\n",
        "These five concepts collectively help in organizing and structuring software in a more efficient, reusable, and maintainable way.\n",
        "\n",
        "\n",
        "\n"
      ],
      "metadata": {
        "id": "Uw6IF8bycr4n"
      }
    },
    {
      "cell_type": "markdown",
      "source": [
        "2. Write a Python class for a `Car` with attributes for `make`, `model`, and `year`. Include a method to display\n",
        "the car's information."
      ],
      "metadata": {
        "id": "PYbJSgJ5c8ma"
      }
    },
    {
      "cell_type": "markdown",
      "source": [
        "Here's a Python class for a Car with attributes for make, model, and year, along with a method to display the car's information:"
      ],
      "metadata": {
        "id": "u2lbawTJdGjD"
      }
    },
    {
      "cell_type": "code",
      "source": [
        "class Car:\n",
        "    # Constructor to initialize the car's attributes\n",
        "    def __init__(self, make, model, year):\n",
        "        self.make = make\n",
        "        self.model = model\n",
        "        self.year = year\n",
        "\n",
        "    # Method to display the car's information\n",
        "    def display_info(self):\n",
        "        print(f\"Car Information: {self.year} {self.make} {self.model}\")\n",
        "\n",
        "# Example usage:\n",
        "car1 = Car(\"Toyota\", \"Corolla\", 2020)\n",
        "car1.display_info()"
      ],
      "metadata": {
        "colab": {
          "base_uri": "https://localhost:8080/"
        },
        "id": "KJAC_5ZFdNRp",
        "outputId": "2135fa61-0ff5-461f-abb8-839e298f56b7"
      },
      "execution_count": 1,
      "outputs": [
        {
          "output_type": "stream",
          "name": "stdout",
          "text": [
            "Car Information: 2020 Toyota Corolla\n"
          ]
        }
      ]
    },
    {
      "cell_type": "markdown",
      "source": [
        "Explanation:\n",
        "\n",
        "\n",
        "The __init__ method initializes the make, model, and year attributes of the Car object when it's created.\n",
        "\n",
        "The display_info method prints the car's details in a formatted string.\n",
        "\n",
        "The example at the end creates a Car object and calls display_info to print its details.\n",
        "\n",
        "We can create more car objects by instantiating the Car class with different attributes."
      ],
      "metadata": {
        "id": "sYg5yz5Odbdb"
      }
    },
    {
      "cell_type": "markdown",
      "source": [
        "3. Explain the difference between instance methods and class methods. Provide an example of each."
      ],
      "metadata": {
        "id": "Zvcr0mrhdnNg"
      }
    },
    {
      "cell_type": "markdown",
      "source": [
        "In Python, both instance methods and class methods are used to define behavior for classes, but they differ in how they are bound to the class and how they access the class's data."
      ],
      "metadata": {
        "id": "x_c9-f5Ad2ZC"
      }
    },
    {
      "cell_type": "markdown",
      "source": [
        "1. Instance Methods:\n"
      ],
      "metadata": {
        "id": "xyeVPaJnd3y7"
      }
    },
    {
      "cell_type": "markdown",
      "source": [
        "Definition:\n",
        "\n",
        " Instance methods are the most common type of methods. They are defined within a class and are bound to an instance of that class. These methods take at least one argument, usually self, which represents the instance of the class.\n",
        "\n",
        "\n",
        "\n",
        "Access:\n",
        "\n",
        "Instance methods can access and modify the instance's attributes and other methods. They work with data specific to an instance.\n",
        "\n",
        "\n",
        "Syntax: Defined using the def keyword, just like any normal method inside a class.\n",
        "\n",
        "\n",
        "Example:"
      ],
      "metadata": {
        "id": "MaKVoAACd61c"
      }
    },
    {
      "cell_type": "code",
      "source": [
        "class Car:\n",
        "    def __init__(self, make, model, year):\n",
        "        self.make = make\n",
        "        self.model = model\n",
        "        self.year = year\n",
        "\n",
        "    def display_info(self):\n",
        "        print(f\"Car Information: {self.year} {self.make} {self.model}\")\n",
        "\n",
        "# Creating an instance of the Car class\n",
        "my_car = Car(\"Toyota\", \"Camry\", 2022)\n",
        "my_car.display_info()"
      ],
      "metadata": {
        "colab": {
          "base_uri": "https://localhost:8080/"
        },
        "id": "d6DNElgpeJwW",
        "outputId": "08200f59-7741-44dc-c3c0-5a1bb0b94661"
      },
      "execution_count": 2,
      "outputs": [
        {
          "output_type": "stream",
          "name": "stdout",
          "text": [
            "Car Information: 2022 Toyota Camry\n"
          ]
        }
      ]
    },
    {
      "cell_type": "markdown",
      "source": [
        "Explanation:\n",
        "\n",
        "The display_info method is an instance method. It accesses the self parameter, which refers to the specific instance of the Car class and uses the instance's attributes (make, model, and year).\n"
      ],
      "metadata": {
        "id": "tXe08SK5dbym"
      }
    },
    {
      "cell_type": "markdown",
      "source": [
        "2. Class Methods:\n"
      ],
      "metadata": {
        "id": "yQ7Sbo-GeVzu"
      }
    },
    {
      "cell_type": "markdown",
      "source": [
        "Definition:\n",
        "\n",
        " Class methods are methods that are bound to the class itself, rather than to an instance. They take at least one argument, usually cls, which represents the class itself, not an instance. Class methods are used for operations that affect the class as a whole, rather than individual instances.\n",
        "\n",
        "\n",
        "\n",
        "Access:\n",
        "\n",
        " Class methods can access and modify class-level attributes, but they cannot access instance-specific data directly. They are used for operations that pertain to the class itself, like factory methods, which instantiate objects, or modifying class-level state.\n",
        "\n",
        "\n",
        "\n",
        "Decorator:\n",
        "\n",
        " Class methods are defined with the @classmethod decorator.\n",
        "\n",
        "Syntax: You define class methods using the @classmethod decorator followed by the method definition.\n",
        "\n",
        "\n",
        "Example:\n",
        "\n",
        "\n"
      ],
      "metadata": {
        "id": "iv38uhoEeaqU"
      }
    },
    {
      "cell_type": "code",
      "source": [
        "class Car:\n",
        "    car_count = 0  # A class attribute to track the number of cars\n",
        "\n",
        "    def __init__(self, make, model, year):\n",
        "        self.make = make\n",
        "        self.model = model\n",
        "        self.year = year\n",
        "        Car.car_count += 1  # Increment the car count each time a new car is created\n",
        "\n",
        "    @classmethod\n",
        "    def get_car_count(cls):\n",
        "        return f\"Total number of cars: {cls.car_count}\"\n",
        "\n",
        "# Creating instances of the Car class\n",
        "car1 = Car(\"Toyota\", \"Corolla\", 2020)\n",
        "car2 = Car(\"Honda\", \"Civic\", 2021)\n",
        "\n",
        "# Calling the class method\n",
        "print(Car.get_car_count())"
      ],
      "metadata": {
        "colab": {
          "base_uri": "https://localhost:8080/"
        },
        "id": "GiQ7qOVyemzX",
        "outputId": "84443701-15e5-487a-9450-790c286b6563"
      },
      "execution_count": 3,
      "outputs": [
        {
          "output_type": "stream",
          "name": "stdout",
          "text": [
            "Total number of cars: 2\n"
          ]
        }
      ]
    },
    {
      "cell_type": "markdown",
      "source": [
        "Explanation:\n",
        "\n",
        "The get_car_count method is a class method. It takes cls as the first parameter, which refers to the Car class itself, not any specific instance. The method accesses the class-level attribute car_count to return the total number of cars created.\n",
        "\n",
        "Class methods are called on the class itself (Car.get_car_count()), not on an instance, though they can also be called on an instance (e.g., car1.get_car_count()).\n"
      ],
      "metadata": {
        "id": "WTPMJTcye5OJ"
      }
    },
    {
      "cell_type": "markdown",
      "source": [
        "4. How does Python implement method overloading? Give an example."
      ],
      "metadata": {
        "id": "Urov9Y11fS0q"
      }
    },
    {
      "cell_type": "markdown",
      "source": [
        "How Python Implements Method Overloading:\n",
        "\n",
        "Default Arguments: You can set default values for arguments in methods. This allows the method to be called with different numbers of arguments.\n",
        "\n",
        "\n",
        "\n",
        "Variable-Length Arguments: You can use *args and **kwargs to allow a method to accept an arbitrary number of positional and keyword arguments.\n",
        "\n",
        "\n",
        "\n",
        "Manually Handling Different Argument Types: You can check the type or number of arguments within the method and provide behavior accordingly."
      ],
      "metadata": {
        "id": "jxuHgSSYfu66"
      }
    },
    {
      "cell_type": "markdown",
      "source": [
        "Example of Method Overloading Using Default Arguments:\n",
        "\n"
      ],
      "metadata": {
        "id": "i4eQEBnXf2HX"
      }
    },
    {
      "cell_type": "code",
      "source": [
        "class Calculator:\n",
        "    # Overloaded method using default arguments\n",
        "    def add(self, a, b=0, c=0):  # b and c have default values\n",
        "        return a + b + c\n",
        "\n",
        "# Create an instance of Calculator\n",
        "calc = Calculator()\n",
        "\n",
        "# Calling with two arguments\n",
        "print(calc.add(5, 3))  # Output: 8\n",
        "\n",
        "# Calling with one argument (b and c default to 0)\n",
        "print(calc.add(5))  # Output: 5\n",
        "\n",
        "# Calling with three arguments\n",
        "print(calc.add(5, 3, 2))"
      ],
      "metadata": {
        "colab": {
          "base_uri": "https://localhost:8080/"
        },
        "id": "NyI4T98Ef53Z",
        "outputId": "35186c8c-9fed-47b1-8dca-7784a9889790"
      },
      "execution_count": 4,
      "outputs": [
        {
          "output_type": "stream",
          "name": "stdout",
          "text": [
            "8\n",
            "5\n",
            "10\n"
          ]
        }
      ]
    },
    {
      "cell_type": "markdown",
      "source": [
        "Example of Method Overloading Using *args:\n"
      ],
      "metadata": {
        "id": "Ck0Q_KrrgC6x"
      }
    },
    {
      "cell_type": "code",
      "source": [
        "class Printer:\n",
        "    def print_message(self, *args):\n",
        "        # Handle different numbers of arguments\n",
        "        if len(args) == 1:\n",
        "            print(f\"Message: {args[0]}\")\n",
        "        elif len(args) == 2:\n",
        "            print(f\"Message 1: {args[0]} | Message 2: {args[1]}\")\n",
        "        else:\n",
        "            print(\"Too many messages!\")\n",
        "\n",
        "# Create an instance of Printer\n",
        "printer = Printer()\n",
        "\n",
        "# Calling with one argument\n",
        "printer.print_message(\"Hello\")  # Output: Message: Hello\n",
        "\n",
        "# Calling with two arguments\n",
        "printer.print_message(\"Hello\", \"World\")  # Output: Message 1: Hello | Message 2: World\n",
        "\n",
        "# Calling with more than two arguments\n",
        "printer.print_message(\"Hello\", \"World\", \"Python\")"
      ],
      "metadata": {
        "colab": {
          "base_uri": "https://localhost:8080/"
        },
        "id": "VKuPz3-PgIUj",
        "outputId": "5b0c68bb-b9c9-4fff-d3e0-3b6f44540550"
      },
      "execution_count": 5,
      "outputs": [
        {
          "output_type": "stream",
          "name": "stdout",
          "text": [
            "Message: Hello\n",
            "Message 1: Hello | Message 2: World\n",
            "Too many messages!\n"
          ]
        }
      ]
    },
    {
      "cell_type": "markdown",
      "source": [
        "Example of Method Overloading Using **kwargs (for keyword arguments):\n",
        "\n"
      ],
      "metadata": {
        "id": "bjcQ1rO8gO0E"
      }
    },
    {
      "cell_type": "code",
      "source": [
        "class Greeter:\n",
        "    def greet(self, **kwargs):\n",
        "        if 'name' in kwargs:\n",
        "            print(f\"Hello, {kwargs['name']}!\")\n",
        "        else:\n",
        "            print(\"Hello, World!\")\n",
        "\n",
        "# Create an instance of Greeter\n",
        "greeter = Greeter()\n",
        "\n",
        "# Calling with a keyword argument\n",
        "greeter.greet(name=\"Alice\")  # Output: Hello, Alice!\n",
        "\n",
        "# Calling without a keyword argument\n",
        "greeter.greet()"
      ],
      "metadata": {
        "colab": {
          "base_uri": "https://localhost:8080/"
        },
        "id": "rRRXKuZHgUkk",
        "outputId": "71cbf487-dd6a-4e2b-87e4-082ceba92e70"
      },
      "execution_count": 6,
      "outputs": [
        {
          "output_type": "stream",
          "name": "stdout",
          "text": [
            "Hello, Alice!\n",
            "Hello, World!\n"
          ]
        }
      ]
    },
    {
      "cell_type": "markdown",
      "source": [
        "Manual Argument Type Checking:\n",
        "\n"
      ],
      "metadata": {
        "id": "J3QJ04Dlgbx6"
      }
    },
    {
      "cell_type": "code",
      "source": [
        "class MathOperations:\n",
        "    def multiply(self, *args):\n",
        "        result = 1\n",
        "        for arg in args:\n",
        "            if isinstance(arg, (int, float)):\n",
        "                result *= arg\n",
        "            else:\n",
        "                print(f\"Invalid argument type: {arg}\")\n",
        "                return None\n",
        "        return result\n",
        "\n",
        "# Create an instance of MathOperations\n",
        "math_op = MathOperations()\n",
        "\n",
        "# Calling with different numbers of arguments\n",
        "print(math_op.multiply(2, 3))\n",
        "print(math_op.multiply(2, 3, 4))\n",
        "print(math_op.multiply(2, 'x'))"
      ],
      "metadata": {
        "colab": {
          "base_uri": "https://localhost:8080/"
        },
        "id": "AaMCaUksgfqW",
        "outputId": "c59e8657-7251-4946-c5b7-3796b77fba5c"
      },
      "execution_count": 7,
      "outputs": [
        {
          "output_type": "stream",
          "name": "stdout",
          "text": [
            "6\n",
            "24\n",
            "Invalid argument type: x\n",
            "None\n"
          ]
        }
      ]
    },
    {
      "cell_type": "markdown",
      "source": [
        "5. What are the three types of access modifiers in Python? How are they denoted?"
      ],
      "metadata": {
        "id": "G2qgGMgUgs3S"
      }
    },
    {
      "cell_type": "markdown",
      "source": [
        "In Python, there are three main types of access modifiers used to control access to class attributes and methods. These access modifiers help define the visibility and accessibility of attributes and methods, whether they are public, protected, or private."
      ],
      "metadata": {
        "id": "oCmnqiRng_7D"
      }
    },
    {
      "cell_type": "markdown",
      "source": [
        "1. Public Access Modifier:\n",
        "\n",
        "\n",
        "Definition:\n",
        "Public members are accessible from anywhere, both inside and outside the class.\n",
        "\n",
        "\n",
        "Notation:\n",
        " By default, all attributes and methods in Python are public unless specified otherwise. They are not prefixed with any special symbol.\n",
        "\n",
        "\n",
        "Example:"
      ],
      "metadata": {
        "id": "UJA4GJZahEO7"
      }
    },
    {
      "cell_type": "code",
      "source": [
        "class Car:\n",
        "    def __init__(self, make, model, year):\n",
        "        self.make = make  # Public attribute\n",
        "        self.model = model  # Public attribute\n",
        "\n",
        "    def display_info(self):  # Public method\n",
        "        print(f\"{self.year} {self.make} {self.model}\")\n",
        "\n",
        "car1 = Car(\"Toyota\", \"Camry\", 2022)\n",
        "print(car1.make)  # Accessing public attribute\n",
        "car1.display_info()  # Accessing public method\n",
        "\n"
      ],
      "metadata": {
        "id": "nWfCRwH7jMx3"
      },
      "execution_count": null,
      "outputs": []
    },
    {
      "cell_type": "markdown",
      "source": [
        "2. Protected Access Modifier:\n",
        "\n",
        "\n",
        "Definition:\n",
        " Protected members are intended to be accessible only within the class and by subclasses (derived classes). They are not meant to be accessed directly from outside the class.\n",
        "\n",
        "\n",
        "Notation: Protected members are denoted by a single underscore (_) before the attribute or method name.\n"
      ],
      "metadata": {
        "id": "nCdB7z59jPng"
      }
    },
    {
      "cell_type": "markdown",
      "source": [
        "Example:\n"
      ],
      "metadata": {
        "id": "eM1OZeP7jujf"
      }
    },
    {
      "cell_type": "code",
      "source": [
        "class Car:\n",
        "    def __init__(self, make, model, year):\n",
        "        self._make = make  # Protected attribute\n",
        "        self._model = model  # Protected attribute\n",
        "\n",
        "    def _display_info(self):  # Protected method\n",
        "        print(f\"{self.year} {self._make} {self._model}\")\n",
        "\n",
        "car1 = Car(\"Toyota\", \"Camry\", 2022)\n",
        "print(car1._make)  # Accessing protected attribute (discouraged)\n",
        "car1._display_info()  # Accessing protected method (discouraged)\n"
      ],
      "metadata": {
        "id": "2bxCgG6rjycI"
      },
      "execution_count": null,
      "outputs": []
    },
    {
      "cell_type": "markdown",
      "source": [
        "3. Private Access Modifier:\n",
        "\n",
        "Definition: Private members are intended to be accessible only within the class where they are defined. They are not intended to be accessed directly from outside the class or by subclasses.\n",
        "\n",
        "\n",
        "Notation: Private members are denoted by a double underscore (__) before the attribute or method name.\n",
        "Example:"
      ],
      "metadata": {
        "id": "6bsH0UeNj_I6"
      }
    },
    {
      "cell_type": "code",
      "source": [
        "class Car:\n",
        "    def __init__(self, make, model, year):\n",
        "        self.__make = make  # Private attribute\n",
        "        self.__model = model  # Private attribute\n",
        "\n",
        "    def __display_info(self):  # Private method\n",
        "        print(f\"{self.year} {self.__make} {self.__model}\")\n",
        "\n",
        "car1 = Car(\"Toyota\", \"Camry\", 2022)\n",
        "# print(car1.__make)  # This will raise an AttributeError\n",
        "# car1.__display_info()  # This will raise an AttributeError"
      ],
      "metadata": {
        "id": "b7wKu1TmkTla"
      },
      "execution_count": null,
      "outputs": []
    },
    {
      "cell_type": "markdown",
      "source": [
        "6. Describe the five types of inheritance in Python. Provide a simple example of multiple inheritance."
      ],
      "metadata": {
        "id": "xrzKUTBPkUnH"
      }
    },
    {
      "cell_type": "markdown",
      "source": [
        "In Python, inheritance is a mechanism where a new class (called the derived class or subclass) inherits attributes and methods from an existing class (called the base class or parent class). There are five primary types of inheritance in Python:"
      ],
      "metadata": {
        "id": "Gl5vbX8UkcFv"
      }
    },
    {
      "cell_type": "markdown",
      "source": [
        "1. Single Inheritance:\n",
        "\n",
        "In single inheritance, a subclass inherits from a single parent class.\n",
        "\n",
        "This is the most basic form of inheritance."
      ],
      "metadata": {
        "id": "forUdGVnktGL"
      }
    },
    {
      "cell_type": "markdown",
      "source": [
        "Example"
      ],
      "metadata": {
        "id": "7qmT6Qtck4aQ"
      }
    },
    {
      "cell_type": "code",
      "source": [
        "class Animal:\n",
        "    def speak(self):\n",
        "        print(\"Animal makes a sound.\")\n",
        "\n",
        "class Dog(Animal):  # Dog is the subclass, Animal is the parent class\n",
        "    def bark(self):\n",
        "        print(\"Dog barks.\")\n",
        "\n",
        "# Creating an instance of Dog\n",
        "dog = Dog()\n",
        "dog.speak()  # Inherited method from Animal class\n",
        "dog.bark()   # Method from Dog class\n"
      ],
      "metadata": {
        "colab": {
          "base_uri": "https://localhost:8080/"
        },
        "id": "cArdoQRsk70x",
        "outputId": "a2cbff15-5dd9-41a3-849e-bd30146ed096"
      },
      "execution_count": 10,
      "outputs": [
        {
          "output_type": "stream",
          "name": "stdout",
          "text": [
            "Animal makes a sound.\n",
            "Dog barks.\n"
          ]
        }
      ]
    },
    {
      "cell_type": "markdown",
      "source": [
        "2. Multiple Inheritance:\n",
        "\n",
        "\n",
        "In multiple inheritance, a subclass inherits from more than one parent class. The subclass inherits attributes and methods from all the parent classes.\n",
        "\n",
        "This allows a subclass to combine functionality from multiple classes.\n",
        "\n",
        "Example:"
      ],
      "metadata": {
        "id": "zWIBwrcwlCqL"
      }
    },
    {
      "cell_type": "code",
      "source": [
        "class Animal:\n",
        "    def speak(self):\n",
        "        print(\"Animal makes a sound.\")\n",
        "\n",
        "class Mammal:\n",
        "    def has_fur(self):\n",
        "        print(\"Mammals have fur.\")\n",
        "\n",
        "class Dog(Animal, Mammal):  # Dog inherits from both Animal and Mammal\n",
        "    def bark(self):\n",
        "        print(\"Dog barks.\")\n",
        "\n",
        "# Creating an instance of Dog\n",
        "dog = Dog()\n",
        "dog.speak()   # Inherited from Animal class\n",
        "dog.has_fur()  # Inherited from Mammal class\n",
        "dog.bark()    # Method from Dog class\n"
      ],
      "metadata": {
        "colab": {
          "base_uri": "https://localhost:8080/"
        },
        "id": "5cYpYS9JlLos",
        "outputId": "3c5f7c3e-b559-4281-f128-9770aa93193e"
      },
      "execution_count": 11,
      "outputs": [
        {
          "output_type": "stream",
          "name": "stdout",
          "text": [
            "Animal makes a sound.\n",
            "Mammals have fur.\n",
            "Dog barks.\n"
          ]
        }
      ]
    },
    {
      "cell_type": "markdown",
      "source": [
        "3. Multilevel Inheritance:\n",
        "\n",
        "\n",
        "In multilevel inheritance, a class is derived from another class, and then another class is derived from that class. This forms a chain of inheritance.\n",
        "\n",
        "In other words, a subclass acts as a base class for another subclass.\n",
        "\n",
        "Example:"
      ],
      "metadata": {
        "id": "jAW5JgGAlQSS"
      }
    },
    {
      "cell_type": "code",
      "source": [
        "class Animal:\n",
        "    def speak(self):\n",
        "        print(\"Animal makes a sound.\")\n",
        "\n",
        "class Mammal(Animal):  # Mammal inherits from Animal\n",
        "    def has_fur(self):\n",
        "        print(\"Mammals have fur.\")\n",
        "\n",
        "class Dog(Mammal):  # Dog inherits from Mammal, which already inherits from Animal\n",
        "    def bark(self):\n",
        "        print(\"Dog barks.\")\n",
        "\n",
        "# Creating an instance of Dog\n",
        "dog = Dog()\n",
        "dog.speak()   # Inherited from Animal class\n",
        "dog.has_fur()  # Inherited from Mammal class\n",
        "dog.bark()    # Method from Dog class\n"
      ],
      "metadata": {
        "colab": {
          "base_uri": "https://localhost:8080/"
        },
        "id": "fveS-m_DlZsh",
        "outputId": "037eb21b-c551-4e67-9e04-6987c3be9928"
      },
      "execution_count": 12,
      "outputs": [
        {
          "output_type": "stream",
          "name": "stdout",
          "text": [
            "Animal makes a sound.\n",
            "Mammals have fur.\n",
            "Dog barks.\n"
          ]
        }
      ]
    },
    {
      "cell_type": "markdown",
      "source": [
        "4. Hierarchical Inheritance:\n",
        "\n",
        "In hierarchical inheritance, multiple subclasses inherit from a single parent class. All the subclasses share the same parent class but can define their own methods or override the inherited ones.\n"
      ],
      "metadata": {
        "id": "4JcCdaBqlf0I"
      }
    },
    {
      "cell_type": "code",
      "source": [
        "class Animal:\n",
        "    def speak(self):\n",
        "        print(\"Animal makes a sound.\")\n",
        "\n",
        "class Dog(Animal):  # Dog inherits from Animal\n",
        "    def bark(self):\n",
        "        print(\"Dog barks.\")\n",
        "\n",
        "class Cat(Animal):  # Cat also inherits from Animal\n",
        "    def meow(self):\n",
        "        print(\"Cat meows.\")\n",
        "\n",
        "# Creating instances of Dog and Cat\n",
        "dog = Dog()\n",
        "cat = Cat()\n",
        "dog.speak()  # Inherited from Animal class\n",
        "dog.bark()\n",
        "cat.speak()  # Inherited from Animal class\n",
        "cat.meow()\n"
      ],
      "metadata": {
        "colab": {
          "base_uri": "https://localhost:8080/"
        },
        "id": "nwtqRCJ0lqVs",
        "outputId": "1d900149-392c-48a4-d682-c9b740a7c648"
      },
      "execution_count": 13,
      "outputs": [
        {
          "output_type": "stream",
          "name": "stdout",
          "text": [
            "Animal makes a sound.\n",
            "Dog barks.\n",
            "Animal makes a sound.\n",
            "Cat meows.\n"
          ]
        }
      ]
    },
    {
      "cell_type": "markdown",
      "source": [
        "5. Hybrid Inheritance:\n",
        "\n",
        "\n",
        "Hybrid inheritance is a combination of two or more types of inheritance. It can involve multiple inheritance, multilevel inheritance, and hierarchical inheritance all together.\n",
        "\n",
        "This type of inheritance is generally more complex and should be used with caution, as it can sometimes lead to ambiguity and issues with method resolution order (MRO).\n",
        "\n",
        "\n",
        "Example (combining multiple and multilevel inheritance):"
      ],
      "metadata": {
        "id": "SmgrtLgllskt"
      }
    },
    {
      "cell_type": "code",
      "source": [
        "class Animal:\n",
        "    def speak(self):\n",
        "        print(\"Animal makes a sound.\")\n",
        "\n",
        "class Mammal(Animal):\n",
        "    def has_fur(self):\n",
        "        print(\"Mammals have fur.\")\n",
        "\n",
        "class Bird(Animal):\n",
        "    def can_fly(self):\n",
        "        print(\"Birds can fly.\")\n",
        "\n",
        "class Bat(Mammal, Bird):  # Bat inherits from both Mammal and Bird\n",
        "    def is_mammal_and_can_fly(self):\n",
        "        print(\"Bats are mammals and can fly.\")\n",
        "\n",
        "# Creating an instance of Bat\n",
        "bat = Bat()\n",
        "bat.speak()  # Inherited from Animal class\n",
        "bat.has_fur()  # Inherited from Mammal class\n",
        "bat.can_fly()  # Inherited from Bird class\n",
        "bat.is_mammal_and_can_fly()  # Method from Bat class\n"
      ],
      "metadata": {
        "colab": {
          "base_uri": "https://localhost:8080/"
        },
        "id": "S7Qmd-D-l55K",
        "outputId": "1eeffac8-097d-47a4-fbfe-0d71dea2f227"
      },
      "execution_count": 14,
      "outputs": [
        {
          "output_type": "stream",
          "name": "stdout",
          "text": [
            "Animal makes a sound.\n",
            "Mammals have fur.\n",
            "Birds can fly.\n",
            "Bats are mammals and can fly.\n"
          ]
        }
      ]
    },
    {
      "cell_type": "markdown",
      "source": [
        "7. What is the Method Resolution Order (MRO) in Python? How can you retrieve it programmatically?"
      ],
      "metadata": {
        "id": "5bVkwZyQl-wv"
      }
    },
    {
      "cell_type": "markdown",
      "source": [
        "Method Resolution Order (MRO) in Python\n",
        "\n",
        "The Method Resolution Order (MRO) in Python defines the order in which base classes are looked up when searching for a method. It is a mechanism used to determine the method that should be called when a method is invoked on an object that might have multiple base classes.\n",
        "\n",
        "\n",
        "When a class is derived from multiple parent classes (i.e., multiple inheritance), the MRO helps resolve which class method should be executed first. This is important in situations where methods from different base classes could potentially conflict or overlap."
      ],
      "metadata": {
        "id": "mR9_7PFQmg2b"
      }
    },
    {
      "cell_type": "markdown",
      "source": [
        "How to Retrieve the MRO Programmatically:\n",
        "\n",
        "\n",
        "We can retrieve the Method Resolution Order (MRO) for any class using the .mro() method or by accessing the __mro__ attribute.\n",
        "\n",
        "\n"
      ],
      "metadata": {
        "id": "jPlbgsVwm7YF"
      }
    },
    {
      "cell_type": "code",
      "source": [
        "#Using the mro() method:\n",
        "print(D.mro())\n"
      ],
      "metadata": {
        "id": "v2F-jTocm_TY"
      },
      "execution_count": null,
      "outputs": []
    },
    {
      "cell_type": "code",
      "source": [
        "# Using the __mro__ attribute:\n",
        "print(D.__mro__)\n"
      ],
      "metadata": {
        "id": "u9Jkp1QlnfXW"
      },
      "execution_count": null,
      "outputs": []
    },
    {
      "cell_type": "markdown",
      "source": [
        "Both will return a list of classes in the MRO for the class D. The output will be something like this:\n",
        "\n"
      ],
      "metadata": {
        "id": "h4gFS5LPoSCM"
      }
    },
    {
      "cell_type": "code",
      "source": [
        "[<class '__main__.D'>, <class '__main__.B'>, <class '__main__.C'>, <class '__main__.A'>, <class 'object'>]\n"
      ],
      "metadata": {
        "id": "G-SWZIleoWjw"
      },
      "execution_count": null,
      "outputs": []
    },
    {
      "cell_type": "markdown",
      "source": [
        "This means that Python will look for a method in D, then in B, then in C, then in A, and finally in the base object class if it hasn’t found the method in any of the other classes."
      ],
      "metadata": {
        "id": "s6-WxnEToZ2e"
      }
    },
    {
      "cell_type": "markdown",
      "source": [
        "8. Create an abstract base class `Shape` with an abstract method `area()`. Then create two subclasses\n",
        "`Circle` and `Rectangle` that implement the `area()` method.\n",
        "\n",
        "\n"
      ],
      "metadata": {
        "id": "Ngi4LEGwovUf"
      }
    },
    {
      "cell_type": "markdown",
      "source": [
        "To create an abstract base class (ABC) in Python, you need to use the abc module (Abstract Base Class module). An abstract base class can define abstract methods that must be implemented by any subclass.\n",
        "\n",
        "\n",
        "Here’s how to create the abstract base class Shape with the abstract method area(), and then create two subclasses, Circle and Rectangle, that implement this method.\n",
        "\n",
        "\n",
        "Steps:\n",
        "\n",
        "\n",
        "Define an abstract base class Shape with the abstract method area().\n",
        "\n",
        "Create subclasses Circle and Rectangle that inherit from Shape and implement the area() method."
      ],
      "metadata": {
        "id": "EJiRApkaoyEK"
      }
    },
    {
      "cell_type": "code",
      "source": [
        "#Code:\n",
        "\n",
        "from abc import ABC, abstractmethod\n",
        "import math\n",
        "\n",
        "# Step 1: Define the abstract base class Shape\n",
        "class Shape(ABC):\n",
        "    @abstractmethod\n",
        "    def area(self):\n",
        "        pass\n",
        "\n",
        "# Step 2: Create the Circle class, which implements the area() method\n",
        "class Circle(Shape):\n",
        "    def __init__(self, radius):\n",
        "        self.radius = radius\n",
        "\n",
        "    def area(self):\n",
        "        return math.pi * (self.radius ** 2)\n",
        "\n",
        "# Step 3: Create the Rectangle class, which implements the area() method\n",
        "class Rectangle(Shape):\n",
        "    def __init__(self, length, width):\n",
        "        self.length = length\n",
        "        self.width = width\n",
        "\n",
        "    def area(self):\n",
        "        return self.length * self.width\n",
        "\n",
        "# Creating instances of Circle and Rectangle\n",
        "circle = Circle(5)\n",
        "rectangle = Rectangle(4, 6)\n",
        "\n",
        "# Output the areas\n",
        "print(f\"Area of Circle: {circle.area()}\")\n",
        "print(f\"Area of Rectangle: {rectangle.area()}\")\n"
      ],
      "metadata": {
        "colab": {
          "base_uri": "https://localhost:8080/"
        },
        "id": "4AqaaaQMo6NI",
        "outputId": "e8f947d2-4acc-4c94-c5ba-0b1f5c9425a8"
      },
      "execution_count": 16,
      "outputs": [
        {
          "output_type": "stream",
          "name": "stdout",
          "text": [
            "Area of Circle: 78.53981633974483\n",
            "Area of Rectangle: 24\n"
          ]
        }
      ]
    },
    {
      "cell_type": "markdown",
      "source": [
        "Explanation:\n",
        "\n",
        "Abstract Base Class (ABC):\n",
        "\n",
        "\n",
        "The Shape class inherits from ABC, making it an abstract base class.\n",
        "The method area() is defined as an abstract method using the @abstractmethod decorator. This means that subclasses of Shape must implement this method.\n",
        "Circle Class:\n",
        "\n",
        "\n",
        "The Circle class inherits from Shape and implements the area() method.\n",
        "\n",
        "The area of the circle is calculated using the formula\n",
        "\n",
        "𝜋\n",
        "𝑟\n",
        "2\n",
        "πr\n",
        "2\n",
        " , where r is the radius.\n",
        "\n",
        "\n",
        "Rectangle Class:\n",
        "\n",
        "\n",
        "The Rectangle class inherits from Shape and implements the area() method.\n",
        "\n",
        "The area of the rectangle is calculated using the formula\n",
        "length\n",
        "×\n",
        "width\n",
        "length×width."
      ],
      "metadata": {
        "id": "oHN_b-F2pP2K"
      }
    },
    {
      "cell_type": "markdown",
      "source": [
        "Key Points:\n",
        "\n",
        "\n",
        "Abstract Base Class (ABC): The Shape class serves as a blueprint for any shape, ensuring that any subclass must implement the area() method.\n",
        "\n",
        "Abstract Method: The area() method is defined in the Shape class but has no implementation. Subclasses (Circle and Rectangle) provide their own specific implementations.\n",
        "\n",
        "Inheritance: Both Circle and Rectangle inherit from Shape, but each class has its own method to calculate the area.\n",
        "\n",
        "\n"
      ],
      "metadata": {
        "id": "UAgR94poppDX"
      }
    },
    {
      "cell_type": "markdown",
      "source": [
        "9. Demonstrate polymorphism by creating a function that can work with different shape objects to calculate\n",
        "and print their areas.\n",
        "\n",
        "\n"
      ],
      "metadata": {
        "id": "UBKy_AbApt0p"
      }
    },
    {
      "cell_type": "markdown",
      "source": [
        "Polymorphism in object-oriented programming allows you to use a common interface (like a method) to work with objects of different types. In Python, this is often achieved through method overriding, where different classes implement the same method but with different behaviors.\n",
        "\n",
        "\n",
        "In the context of shapes, polymorphism allows us to use a common method area() to calculate the area of different shape objects (e.g., Circle, Rectangle, etc.) without needing to know the exact class type."
      ],
      "metadata": {
        "id": "jccoTWJzp2xO"
      }
    },
    {
      "cell_type": "markdown",
      "source": [
        "Example of Polymorphism with Shape Classes:\n",
        "\n",
        "We have a base class Shape with an abstract method area().\n",
        "\n",
        "We have two subclasses: Circle and Rectangle, each overriding the area() method to calculate the area specific to that shape.\n",
        "\n",
        "We then create a function that works with any Shape object and calculates its area.\n",
        "\n",
        "\n",
        "Code:"
      ],
      "metadata": {
        "id": "MWdWz0gTqc25"
      }
    },
    {
      "cell_type": "code",
      "source": [
        "from abc import ABC, abstractmethod\n",
        "import math\n",
        "\n",
        "# Step 1: Define the abstract base class Shape\n",
        "class Shape(ABC):\n",
        "    @abstractmethod\n",
        "    def area(self):\n",
        "        pass\n",
        "\n",
        "# Step 2: Create the Circle class, which implements the area() method\n",
        "class Circle(Shape):\n",
        "    def __init__(self, radius):\n",
        "        self.radius = radius\n",
        "\n",
        "    def area(self):\n",
        "        return math.pi * (self.radius ** 2)\n",
        "\n",
        "# Step 3: Create the Rectangle class, which implements the area() method\n",
        "class Rectangle(Shape):\n",
        "    def __init__(self, length, width):\n",
        "        self.length = length\n",
        "        self.width = width\n",
        "\n",
        "    def area(self):\n",
        "        return self.length * self.width\n",
        "\n",
        "# Step 4: Function to demonstrate polymorphism\n",
        "def print_area(shape: Shape):\n",
        "    print(f\"Area: {shape.area()}\")\n",
        "\n",
        "# Step 5: Create instances of Circle and Rectangle\n",
        "circle = Circle(5)\n",
        "rectangle = Rectangle(4, 6)\n",
        "\n",
        "# Step 6: Call the function with different shape objects\n",
        "print_area(circle)\n",
        "print_area(rectangle)\n"
      ],
      "metadata": {
        "colab": {
          "base_uri": "https://localhost:8080/"
        },
        "id": "UHyTgGGCqjEE",
        "outputId": "c87505bc-e713-495d-8e9e-b37609223479"
      },
      "execution_count": 17,
      "outputs": [
        {
          "output_type": "stream",
          "name": "stdout",
          "text": [
            "Area: 78.53981633974483\n",
            "Area: 24\n"
          ]
        }
      ]
    },
    {
      "cell_type": "markdown",
      "source": [
        "10. Implement encapsulation in a `BankAccount` class with private attributes for `balance` and\n",
        "`account_number`. Include methods for deposit, withdrawal, and balance inquiry."
      ],
      "metadata": {
        "id": "Mg7iOFUBrmhf"
      }
    },
    {
      "cell_type": "markdown",
      "source": [
        "To implement encapsulation in a BankAccount class, we need to use private attributes for balance and account_number, and provide public methods to interact with these private attributes. Encapsulation ensures that the internal state of an object is hidden from the outside, allowing access only through getter and setter methods.\n",
        "\n",
        "Here’s how to implement it in Python:"
      ],
      "metadata": {
        "id": "BWYRvAIesnWt"
      }
    },
    {
      "cell_type": "code",
      "source": [
        "class BankAccount:\n",
        "    def __init__(self, account_number, initial_balance=0):\n",
        "        # Private attributes\n",
        "        self.__account_number = account_number\n",
        "        self.__balance = initial_balance\n",
        "\n",
        "    # Method to deposit money into the account\n",
        "    def deposit(self, amount):\n",
        "        if amount > 0:\n",
        "            self.__balance += amount\n",
        "            print(f\"Deposited {amount}. Current balance: {self.__balance}\")\n",
        "        else:\n",
        "            print(\"Deposit amount must be greater than zero.\")\n",
        "\n",
        "    # Method to withdraw money from the account\n",
        "    def withdraw(self, amount):\n",
        "        if amount > 0 and amount <= self.__balance:\n",
        "            self.__balance -= amount\n",
        "            print(f\"Withdrew {amount}. Current balance: {self.__balance}\")\n",
        "        else:\n",
        "            print(\"Invalid withdrawal amount or insufficient balance.\")\n",
        "\n",
        "    # Method to get the current balance of the account\n",
        "    def get_balance(self):\n",
        "        return self.__balance\n",
        "\n",
        "    # Method to get the account number (read-only access)\n",
        "    def get_account_number(self):\n",
        "        return self.__account_number\n",
        "\n",
        "\n",
        "# Example usage:\n",
        "\n",
        "# Creating a BankAccount instance with an initial balance of 1000\n",
        "account = BankAccount(\"123456789\", 1000)\n",
        "\n",
        "# Deposit money\n",
        "account.deposit(500)  # Deposited 500. Current balance: 1500\n",
        "\n",
        "# Withdraw money\n",
        "account.withdraw(200)  # Withdrew 200. Current balance: 1300\n",
        "\n",
        "# Checking the balance\n",
        "print(f\"Current balance: {account.get_balance()}\")  # Output: 1300\n",
        "\n",
        "# Accessing account number\n",
        "print(f\"Account number: {account.get_account_number()}\")  # Output: 123456789\n",
        "\n",
        "# Trying to directly access private attributes will result in an error\n",
        "# print(account.__balance)  # This will raise an AttributeError\n",
        "# print(account.__account_number)  # This will also raise an AttributeError\n"
      ],
      "metadata": {
        "colab": {
          "base_uri": "https://localhost:8080/"
        },
        "id": "VEw3TQYlvT13",
        "outputId": "e94cb9aa-d7a2-4f5c-cc14-1d9facc057d0"
      },
      "execution_count": 18,
      "outputs": [
        {
          "output_type": "stream",
          "name": "stdout",
          "text": [
            "Deposited 500. Current balance: 1500\n",
            "Withdrew 200. Current balance: 1300\n",
            "Current balance: 1300\n",
            "Account number: 123456789\n"
          ]
        }
      ]
    },
    {
      "cell_type": "markdown",
      "source": [
        "11. Write a class that overrides the `__str__` and `__add__` magic methods. What will these methods allow\n",
        "you to do?"
      ],
      "metadata": {
        "id": "C6OMC7PyvvrB"
      }
    },
    {
      "cell_type": "markdown",
      "source": [
        "In Python, special or \"magic\" methods allow you to define how objects behave with certain operations or when they are converted to strings. The __str__ and __add__ methods are commonly overridden to customize the string representation of objects and how objects of a class are added together.\n",
        "\n",
        "\n",
        "__str__: This method is used to define the string representation of an object when it is printed or converted to a string using str(). By overriding this method, you can customize what is displayed when the object is passed to print() or str().\n",
        "\n",
        "\n",
        "__add__: This method is used to define how objects of a class should behave when the + operator is used. By overriding this method, you can define how two objects of the class are added together."
      ],
      "metadata": {
        "id": "LZq9Tiavv9Os"
      }
    },
    {
      "cell_type": "markdown",
      "source": [
        "Example Implementation:\n",
        "\n",
        "Let's write a class Point that represents a 2D point with x and y coordinates. We'll override the __str__ method to return a string representation of the point, and the __add__ method to allow adding two Point objects together by adding their respective x and y coordinates.\n",
        "\n",
        "\n",
        "Code:"
      ],
      "metadata": {
        "id": "mYdY9HR9w0ZN"
      }
    },
    {
      "cell_type": "code",
      "source": [
        "class Point:\n",
        "    def __init__(self, x, y):\n",
        "        self.x = x\n",
        "        self.y = y\n",
        "\n",
        "    # Override __str__ to define how the Point object should be represented as a string\n",
        "    def __str__(self):\n",
        "        return f\"Point({self.x}, {self.y})\"\n",
        "\n",
        "    # Override __add__ to define how two Point objects are added\n",
        "    def __add__(self, other):\n",
        "        if isinstance(other, Point):\n",
        "            # Add corresponding x and y coordinates of both points\n",
        "            return Point(self.x + other.x, self.y + other.y)\n",
        "        else:\n",
        "            raise TypeError(\"Both operands must be Point objects\")\n",
        "\n",
        "# Example usage:\n",
        "\n",
        "# Creating Point objects\n",
        "p1 = Point(3, 4)\n",
        "p2 = Point(1, 2)\n",
        "\n",
        "# Printing Point objects (uses __str__)\n",
        "print(p1)\n",
        "print(p2)\n",
        "\n",
        "# Adding two Point objects (uses __add__)\n",
        "p3 = p1 + p2\n",
        "print(p3)\n"
      ],
      "metadata": {
        "colab": {
          "base_uri": "https://localhost:8080/"
        },
        "id": "P_t3N1DcxA8J",
        "outputId": "effb39b1-15a2-470e-ba12-7c82947dcf01"
      },
      "execution_count": 19,
      "outputs": [
        {
          "output_type": "stream",
          "name": "stdout",
          "text": [
            "Point(3, 4)\n",
            "Point(1, 2)\n",
            "Point(4, 6)\n"
          ]
        }
      ]
    },
    {
      "cell_type": "markdown",
      "source": [
        "Explanation:\n",
        "\n",
        "\n",
        "__init__ Method: This is the constructor method that initializes the x and y coordinates of a Point object.\n",
        "\n",
        "\n",
        "__str__ Method:\n",
        "\n",
        "\n",
        "The __str__ method returns a string that represents the Point object.\n",
        "\n",
        "When we call print(p1), it internally calls p1.__str__() to get the string representation of the object.\n",
        "\n",
        "The output of print(p1) will be Point(3, 4) instead of the default memory address of the object.\n",
        "\n",
        "\n",
        "__add__ Method:\n",
        "\n",
        "The __add__ method is overridden to define how two Point objects can be added together.\n",
        "\n",
        "When we perform p3 = p1 + p2, it calls p1.__add__(p2). The method checks if the operand other is an instance of Point, and if so, it returns a new Point object where the x and y coordinates are added together: (3 + 1, 4 + 2) which results in a new point (4, 6)."
      ],
      "metadata": {
        "id": "r_m6D2KcxOb2"
      }
    },
    {
      "cell_type": "markdown",
      "source": [
        "What These Methods Allow You to Do:\n",
        "\n",
        "\n",
        "__str__:\n",
        "\n",
        "\n",
        "Customizes the string representation of an object.\n",
        "Allows you to define what happens when you use print() or str() with an object. Without overriding __str__, Python would use the default string representation, which includes the memory address of the object (e.g., <__main__.Point object at 0x10aeb6f70>).\n",
        "\n",
        "\n",
        "__add__:\n",
        "\n",
        "\n",
        "Customizes the behavior of the + operator when used with objects of the class.\n",
        "In this example, we define that adding two Point objects will result in a new Point object with the summed x and y coordinates. Without overriding __add__, Python would raise an error when trying to add two Point objects, as the + operator isn't defined for custom objects by default."
      ],
      "metadata": {
        "id": "V53NoMUIxgxl"
      }
    },
    {
      "cell_type": "markdown",
      "source": [
        "Key Points:\n",
        "\n",
        "__str__ allows you to control how objects are printed or converted to strings, making your class more user-friendly when dealing with outputs.\n",
        "\n",
        "__add__ allows you to control the behavior of the + operator between two instances of your class, enabling intuitive object addition.\n",
        "\n",
        "\n"
      ],
      "metadata": {
        "id": "lWUI6xzLxtnf"
      }
    },
    {
      "cell_type": "markdown",
      "source": [
        "12. Create a decorator that measures and prints the execution time of a function."
      ],
      "metadata": {
        "id": "sypo6J2gxzLN"
      }
    },
    {
      "cell_type": "markdown",
      "source": [
        "In Python, a decorator is a function that allows you to modify or extend the behavior of another function or method. Decorators are commonly used for logging, access control, memoization, and other cross-cutting concerns.\n",
        "\n",
        "\n",
        "\n",
        "To measure and print the execution time of a function, we can create a decorator that:\n",
        "\n",
        "\n",
        "Takes a function as an argument.\n",
        "\n",
        "Measures the time before and after the function is executed.\n",
        "\n",
        "Calculates and prints the time taken for the function to execute.\n",
        "\n",
        "We can use the time module to get the current time before and after the function runs, and then compute the difference.\n",
        "\n",
        "\n",
        "\n",
        "Code Implementation:\n",
        "\n"
      ],
      "metadata": {
        "id": "C65qcER-x0Wr"
      }
    },
    {
      "cell_type": "code",
      "source": [
        "import time\n",
        "\n",
        "# Decorator to measure execution time\n",
        "def measure_execution_time(func):\n",
        "    def wrapper(*args, **kwargs):\n",
        "        # Record the start time\n",
        "        start_time = time.time()\n",
        "\n",
        "        # Call the original function\n",
        "        result = func(*args, **kwargs)\n",
        "\n",
        "        # Record the end time\n",
        "        end_time = time.time()\n",
        "\n",
        "        # Calculate and print the execution time\n",
        "        execution_time = end_time - start_time\n",
        "        print(f\"Execution time of {func.__name__}: {execution_time:.6f} seconds\")\n",
        "\n",
        "        # Return the result of the original function\n",
        "        return result\n",
        "\n",
        "    return wrapper\n",
        "\n",
        "# Example usage of the decorator:\n",
        "\n",
        "# Decorate a function that performs some work\n",
        "@measure_execution_time\n",
        "def slow_function():\n",
        "    time.sleep(2)  # Simulate a delay (e.g., a task that takes 2 seconds)\n",
        "    print(\"Function completed\")\n",
        "\n",
        "# Call the decorated function\n",
        "slow_function()\n"
      ],
      "metadata": {
        "colab": {
          "base_uri": "https://localhost:8080/"
        },
        "id": "Zt973nccyQ0i",
        "outputId": "8b64a142-3d44-4f55-abc7-4d1542edfd86"
      },
      "execution_count": 20,
      "outputs": [
        {
          "output_type": "stream",
          "name": "stdout",
          "text": [
            "Function completed\n",
            "Execution time of slow_function: 2.002060 seconds\n"
          ]
        }
      ]
    },
    {
      "cell_type": "markdown",
      "source": [
        "Explanation:\n",
        "\n",
        "\n",
        "measure_execution_time Decorator:\n",
        "\n",
        "\n",
        "The measure_execution_time decorator takes a function func as input and defines a nested function wrapper, which will wrap the original function.\n",
        "\n",
        "Inside wrapper, we:\n",
        "\n",
        "\n",
        "Record the start time using time.time().\n",
        "\n",
        "Call the original function using func(*args, **kwargs) and store the result.\n",
        "\n",
        "Record the end time.\n",
        "\n",
        "Calculate the execution time by subtracting start_time from end_time.\n",
        "\n",
        "Print the execution time formatted to six decimal places.\n",
        "\n",
        "Finally, the wrapper function returns the result of the original function.\n",
        "\n",
        "\n",
        "@measure_execution_time:\n",
        "\n",
        "\n",
        "The decorator @measure_execution_time is applied to slow_function, which means it will replace slow_function with the wrapper function defined inside the decorator.\n",
        "\n",
        "When slow_function() is called, it actually calls wrapper(), which measures the execution time, calls the original function, and then prints the time.\n",
        "\n",
        "\n",
        "time.sleep(2):\n",
        "\n",
        "\n",
        "The slow_function simulates a time-consuming operation by sleeping for 2 seconds."
      ],
      "metadata": {
        "id": "qN52Jtp1ydcL"
      }
    },
    {
      "cell_type": "markdown",
      "source": [
        "13. Explain the concept of the Diamond Problem in multiple inheritance. How does Python resolve it?"
      ],
      "metadata": {
        "id": "Aivtj9nPy8AQ"
      }
    },
    {
      "cell_type": "markdown",
      "source": [
        "The Diamond Problem in Multiple Inheritance\n"
      ],
      "metadata": {
        "id": "5_VV8r7Rzbme"
      }
    },
    {
      "cell_type": "markdown",
      "source": [
        "The Diamond Problem arises in object-oriented programming languages that support multiple inheritance, where a class inherits from two classes that both inherit from a common base class. This creates a situation where it is ambiguous which version of a method or attribute should be inherited from the common base class if it is overridden in the intermediate classes."
      ],
      "metadata": {
        "id": "17cTYJkB026h"
      }
    },
    {
      "cell_type": "markdown",
      "source": [
        "Diagram of the Diamond Problem:\n"
      ],
      "metadata": {
        "id": "Ank-tpN6096d"
      }
    },
    {
      "cell_type": "code",
      "source": [
        "     A\n",
        "    / \\\n",
        "   B   C\n",
        "    \\ /\n",
        "     D\n"
      ],
      "metadata": {
        "id": "8zkQEtNv1Crz"
      },
      "execution_count": null,
      "outputs": []
    },
    {
      "cell_type": "markdown",
      "source": [
        "Class A: The base class.\n",
        "\n",
        "Class B and Class C: Both inherit from Class A and potentially override methods.\n",
        "\n",
        "Class D: Inherits from both Class B and Class C.\n",
        "\n",
        "\n",
        "The ambiguity arises when Class D calls a method that is defined in Class A but is overridden in both Class B and Class C. Python needs to decide which version of the method to call (i.e., the one from Class B, Class C, or Class A)."
      ],
      "metadata": {
        "id": "A50oXy8j1JKA"
      }
    },
    {
      "cell_type": "markdown",
      "source": [
        "Example of the Diamond Problem in Python:\n"
      ],
      "metadata": {
        "id": "pQzClaaN1lz2"
      }
    },
    {
      "cell_type": "code",
      "source": [
        "class A:\n",
        "    def greet(self):\n",
        "        print(\"Hello from A!\")\n",
        "\n",
        "class B(A):\n",
        "    def greet(self):\n",
        "        print(\"Hello from B!\")\n",
        "\n",
        "class C(A):\n",
        "    def greet(self):\n",
        "        print(\"Hello from C!\")\n",
        "\n",
        "class D(B, C):\n",
        "    pass\n",
        "\n",
        "# Create an instance of D\n",
        "d = D()\n",
        "d.greet()  # Which greet method will be called?\n"
      ],
      "metadata": {
        "colab": {
          "base_uri": "https://localhost:8080/"
        },
        "id": "OXL2LZ4G1qq3",
        "outputId": "9bf1c91e-d086-47f9-acf1-c4979ec7bcdb"
      },
      "execution_count": 21,
      "outputs": [
        {
          "output_type": "stream",
          "name": "stdout",
          "text": [
            "Hello from B!\n"
          ]
        }
      ]
    },
    {
      "cell_type": "markdown",
      "source": [
        "The Problem:\n",
        "\n",
        "Class D inherits from both B and C, which in turn inherit from A.\n",
        "\n",
        "Class B and C both override the greet method from A.\n",
        "\n",
        "The greet method is called on an object of D, but which version of greet will be used: the one from B, C, or A?"
      ],
      "metadata": {
        "id": "oZgVyB4e13Re"
      }
    },
    {
      "cell_type": "markdown",
      "source": [
        "Python’s Solution: Method Resolution Order (MRO)\n",
        "\n",
        "\n",
        "Python resolves the Diamond Problem using a mechanism called Method Resolution Order (MRO), which defines the order in which classes are considered when searching for a method or attribute. This order is determined by an algorithm called C3 Linearization.\n",
        "\n",
        "How Python Resolves It:\n",
        "\n",
        "\n",
        "C3 Linearization: This is the algorithm Python uses to determine the method resolution order. It linearizes the inheritance hierarchy in a way that maintains a consistent and predictable method lookup order, even when multiple classes inherit from the same base class.\n",
        "\n",
        "\n",
        "MRO: The method resolution order is computed and can be accessed via the __mro__ attribute or mro() method, which shows the order in which classes are considered when looking for a method.\n",
        "\n",
        "\n",
        "Super() Function: When calling methods in Python, the super() function uses the MRO to find the next class in the inheritance chain."
      ],
      "metadata": {
        "id": "53Ehh9Y-2dyU"
      }
    },
    {
      "cell_type": "code",
      "source": [
        "class A:\n",
        "    def greet(self):\n",
        "        print(\"Hello from A!\")\n",
        "\n",
        "class B(A):\n",
        "    def greet(self):\n",
        "        print(\"Hello from B!\")\n",
        "\n",
        "class C(A):\n",
        "    def greet(self):\n",
        "        print(\"Hello from C!\")\n",
        "\n",
        "class D(B, C):\n",
        "    pass\n",
        "\n",
        "# MRO of class D\n",
        "print(D.__mro__)  # Print Method Resolution Order\n",
        "\n",
        "# Create an instance of D\n",
        "d = D()\n",
        "d.greet()  # Call greet method\n"
      ],
      "metadata": {
        "colab": {
          "base_uri": "https://localhost:8080/"
        },
        "id": "RUR9UOkg2q3a",
        "outputId": "4ec72eec-1e39-43bf-84d9-1eb718f81a49"
      },
      "execution_count": 22,
      "outputs": [
        {
          "output_type": "stream",
          "name": "stdout",
          "text": [
            "(<class '__main__.D'>, <class '__main__.B'>, <class '__main__.C'>, <class '__main__.A'>, <class 'object'>)\n",
            "Hello from B!\n"
          ]
        }
      ]
    },
    {
      "cell_type": "markdown",
      "source": [
        "Explanation:\n",
        "\n",
        "MRO of D:\n",
        "\n",
        "\n",
        "The method resolution order of class D is D -> B -> C -> A -> object. This means that Python will first check if greet is defined in D. If not, it will check B, then C, then A, and finally the object class (the base class for all Python classes).\n",
        "\n",
        "\n",
        "\n",
        "Order of Resolution:\n",
        "\n",
        "Since D inherits from B first (D(B, C)), Python checks B before C. Therefore, the greet method from B is called, and the output is \"Hello from B!\".\n",
        "\n",
        "\n",
        "\n",
        "Method Resolution Order (__mro__):\n",
        "\n",
        "\n",
        "The __mro__ attribute lists the classes in the order they will be checked for method resolution. For D, the order is [D, B, C, A, object]."
      ],
      "metadata": {
        "id": "0G2SnvLF0qM2"
      }
    },
    {
      "cell_type": "markdown",
      "source": [
        "How the Diamond Problem is Resolved in Python:\n",
        "\n",
        "\n",
        "C3 Linearization ensures that there is a predictable and unambiguous order in which classes are checked for methods and attributes, even when multiple inheritance is used.\n",
        "\n",
        "The method resolution order is always left-to-right depth-first, taking into account the inheritance order specified in the class definition. In the case of D(B, C), the method is first looked for in B, then C, and finally A.\n",
        "\n",
        "super() uses this MRO to call the next class in the inheritance hierarchy.\n",
        "\n",
        "\n",
        "Key Points:\n",
        "\n",
        "Diamond Problem: This occurs when a class inherits from two classes that share a common base class, creating ambiguity about which method to inherit if the base method is overridden.\n",
        "\n",
        "Python's Solution: Python resolves this ambiguity using C3 Linearization, which defines a consistent Method Resolution Order (MRO) to ensure that the method lookup is predictable.\n",
        "\n",
        "MRO: Python computes the method resolution order for each class, which can be accessed using the __mro__ attribute or mro() method.\n",
        "\n",
        "super(): The super() function respects the MRO, ensuring that methods are called from the correct class in the hierarchy.\n",
        "\n",
        "This solution allows Python to handle multiple inheritance cleanly and avoid the ambiguities that arise in the diamond problem.\n",
        "\n",
        "\n",
        "\n"
      ],
      "metadata": {
        "id": "yNohIart3L1N"
      }
    },
    {
      "cell_type": "markdown",
      "source": [],
      "metadata": {
        "id": "8R1ja_Kj3X5i"
      }
    },
    {
      "cell_type": "markdown",
      "source": [
        "14. Write a class method that keeps track of the number of instances created from a class."
      ],
      "metadata": {
        "id": "IpYvdu-u3irN"
      }
    },
    {
      "cell_type": "markdown",
      "source": [
        "To keep track of the number of instances created from a class, you can use a class variable to store the count. This count will be incremented each time a new instance is created. A class method can be used to retrieve this count, as it operates on the class itself (rather than an instance).\n",
        "\n",
        "\n",
        "Here's how you can implement this:\n",
        "\n",
        "\n",
        "\n",
        "Code Implementation:"
      ],
      "metadata": {
        "id": "FrOtc45s3kX-"
      }
    },
    {
      "cell_type": "code",
      "source": [
        "class MyClass:\n",
        "    # Class variable to keep track of the number of instances\n",
        "    instance_count = 0\n",
        "\n",
        "    def __init__(self):\n",
        "        # Increment the instance count whenever a new instance is created\n",
        "        MyClass.instance_count += 1\n",
        "\n",
        "    @classmethod\n",
        "    def get_instance_count(cls):\n",
        "        # Class method to return the number of instances\n",
        "        return cls.instance_count\n",
        "\n",
        "# Example usage:\n",
        "\n",
        "# Create some instances\n",
        "obj1 = MyClass()\n",
        "obj2 = MyClass()\n",
        "obj3 = MyClass()\n",
        "\n",
        "# Get the count of instances using the class method\n",
        "print(f\"Number of instances created: {MyClass.get_instance_count()}\")\n"
      ],
      "metadata": {
        "colab": {
          "base_uri": "https://localhost:8080/"
        },
        "id": "vsWLdrba3qco",
        "outputId": "461d77f7-2f82-4f2b-b027-0a8e5de5d678"
      },
      "execution_count": 23,
      "outputs": [
        {
          "output_type": "stream",
          "name": "stdout",
          "text": [
            "Number of instances created: 3\n"
          ]
        }
      ]
    },
    {
      "cell_type": "markdown",
      "source": [
        "Explanation:\n",
        "\n",
        "\n",
        "Class Variable: instance_count is a class variable that keeps track of the number of instances created. It is initialized to 0.\n",
        "\n",
        "\n",
        "\n",
        "Constructor (__init__):\n",
        "\n",
        "\n",
        "Every time a new object is instantiated, the __init__ method is called.\n",
        "\n",
        "Inside the constructor, we increment the class variable instance_count by 1 to keep track of the number of instances.\n",
        "\n",
        "\n",
        "Class Method (get_instance_count):\n",
        "\n",
        "The get_instance_count method is decorated with @classmethod, meaning it operates on the class itself (using cls) rather than on an individual instance.\n",
        "\n",
        "This method returns the value of instance_count, which gives the current number of instances created."
      ],
      "metadata": {
        "id": "JE55QtH52_Ho"
      }
    },
    {
      "cell_type": "markdown",
      "source": [
        "Key Points:\n",
        "\n",
        "Class Variable: A variable that is shared across all instances of a class. It is used to keep track of information that is related to the class itself, rather than individual instances.\n",
        "\n",
        "Class Method: A method that operates on the class itself, not on individual instances. It is defined using the @classmethod decorator, and it receives the class (cls) as its first argument.\n",
        "\n",
        "Tracking Instances: The instance_count class variable is incremented each time a new instance is created, and the class method get_instance_count can be used to retrieve the count of instances."
      ],
      "metadata": {
        "id": "KCcNq2d84Jnx"
      }
    },
    {
      "cell_type": "markdown",
      "source": [
        "15. Implement a static method in a class that checks if a given year is a leap year."
      ],
      "metadata": {
        "id": "2aHWnUoY4wIJ"
      }
    },
    {
      "cell_type": "markdown",
      "source": [
        "To implement a static method in a class that checks whether a given year is a leap year, we will follow the rules for determining leap years:\n",
        "\n"
      ],
      "metadata": {
        "id": "eOV9zXZu41Nk"
      }
    },
    {
      "cell_type": "markdown",
      "source": [
        "A year is a leap year if:\n",
        "\n",
        "\n",
        "It is divisible by 4 and (not divisible by 100 unless it is divisible by 400).\n",
        "\n"
      ],
      "metadata": {
        "id": "0UMao7qF45d8"
      }
    },
    {
      "cell_type": "markdown",
      "source": [
        "We will define a static method that takes a year as an argument and returns True if the year is a leap year, and False otherwise.\n",
        "\n",
        "Code Implementation:\n",
        "\n"
      ],
      "metadata": {
        "id": "cE0BHHko5BF3"
      }
    },
    {
      "cell_type": "code",
      "source": [
        "class Year:\n",
        "\n",
        "    @staticmethod\n",
        "    def is_leap_year(year):\n",
        "        # A year is a leap year if it is divisible by 4 but not 100, unless it is divisible by 400\n",
        "        if (year % 4 == 0 and year % 100 != 0) or (year % 400 == 0):\n",
        "            return True\n",
        "        return False\n",
        "\n",
        "# Example usage:\n",
        "\n",
        "# Check if 2024 is a leap year\n",
        "year = 2024\n",
        "print(f\"{year} is a leap year: {Year.is_leap_year(year)}\")\n",
        "\n",
        "# Check if 2023 is a leap year\n",
        "year = 2023\n",
        "print(f\"{year} is a leap year: {Year.is_leap_year(year)}\")\n",
        "\n",
        "# Check if 2000 is a leap year\n",
        "year = 2000\n",
        "print(f\"{year} is a leap year: {Year.is_leap_year(year)}\")\n",
        "\n",
        "# Check if 1900 is a leap year\n",
        "year = 1900\n",
        "print(f\"{year} is a leap year: {Year.is_leap_year(year)}\")\n"
      ],
      "metadata": {
        "colab": {
          "base_uri": "https://localhost:8080/"
        },
        "id": "rG4DarXl5Ld0",
        "outputId": "49b7134c-3adc-43f6-ef5f-ed4782ae66aa"
      },
      "execution_count": 24,
      "outputs": [
        {
          "output_type": "stream",
          "name": "stdout",
          "text": [
            "2024 is a leap year: True\n",
            "2023 is a leap year: False\n",
            "2000 is a leap year: True\n",
            "1900 is a leap year: False\n"
          ]
        }
      ]
    },
    {
      "cell_type": "markdown",
      "source": [
        "Explanation:"
      ],
      "metadata": {
        "id": "aJUX-WaR5XDM"
      }
    },
    {
      "cell_type": "markdown",
      "source": [
        "Static Method (is_leap_year):\n",
        "\n"
      ],
      "metadata": {
        "id": "4yvWMTFv5X8F"
      }
    },
    {
      "cell_type": "markdown",
      "source": [
        "The @staticmethod decorator is used to define a static method that belongs to the class itself, not to an instance of the class.\n",
        "\n",
        "This method checks whether a given year is a leap year by:\n",
        "\n",
        "Checking if the year is divisible by 4 and not divisible by 100, unless it is also divisible by 400.\n",
        "\n",
        "If these conditions are met, it returns True; otherwise, it returns False.\n"
      ],
      "metadata": {
        "id": "fynCCxEw5dYr"
      }
    },
    {
      "cell_type": "markdown",
      "source": [
        "Example Usage:\n",
        "\n"
      ],
      "metadata": {
        "id": "OjXs4d9K5w_D"
      }
    },
    {
      "cell_type": "markdown",
      "source": [
        "The static method is_leap_year(year) is called directly on the class Year without the need to instantiate an object.\n",
        "\n",
        "\n",
        "We check if the years 2024, 2023, 2000, and 1900 are leap years."
      ],
      "metadata": {
        "id": "S8Y1fn3654FP"
      }
    },
    {
      "cell_type": "markdown",
      "source": [
        "Key Points:\n"
      ],
      "metadata": {
        "id": "z6gnmdxi56UL"
      }
    },
    {
      "cell_type": "markdown",
      "source": [
        "Static Method: Defined using the @staticmethod decorator, and does not require access to instance or class variables.\n",
        "\n",
        "\n",
        "Leap Year Logic: The leap year logic is implemented using conditional checks to ensure it follows the rules of leap years in the Gregorian calendar.\n",
        "\n",
        "\n"
      ],
      "metadata": {
        "id": "LQHEbvPV5-UV"
      }
    },
    {
      "cell_type": "code",
      "source": [],
      "metadata": {
        "id": "QrDFeiHC5Cni"
      },
      "execution_count": null,
      "outputs": []
    }
  ]
}